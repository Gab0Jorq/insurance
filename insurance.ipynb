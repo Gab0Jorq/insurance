{
 "cells": [
  {
   "cell_type": "code",
   "execution_count": 11,
   "metadata": {},
   "outputs": [],
   "source": [
    "import pandas as pd\n",
    "import numpy as np\n",
    "import matplotlib.pyplot as plt\n",
    "import seaborn as sns"
   ]
  },
  {
   "cell_type": "code",
   "execution_count": 12,
   "metadata": {},
   "outputs": [],
   "source": [
    "df = pd.read_csv('datasets/insurance.csv')"
   ]
  },
  {
   "cell_type": "markdown",
   "metadata": {},
   "source": [
    "# Análisis exploratorio"
   ]
  },
  {
   "cell_type": "code",
   "execution_count": 13,
   "metadata": {},
   "outputs": [
    {
     "data": {
      "text/html": [
       "<div>\n",
       "<style scoped>\n",
       "    .dataframe tbody tr th:only-of-type {\n",
       "        vertical-align: middle;\n",
       "    }\n",
       "\n",
       "    .dataframe tbody tr th {\n",
       "        vertical-align: top;\n",
       "    }\n",
       "\n",
       "    .dataframe thead th {\n",
       "        text-align: right;\n",
       "    }\n",
       "</style>\n",
       "<table border=\"1\" class=\"dataframe\">\n",
       "  <thead>\n",
       "    <tr style=\"text-align: right;\">\n",
       "      <th></th>\n",
       "      <th>age</th>\n",
       "      <th>sex</th>\n",
       "      <th>bmi</th>\n",
       "      <th>children</th>\n",
       "      <th>smoker</th>\n",
       "      <th>region</th>\n",
       "      <th>expenses</th>\n",
       "    </tr>\n",
       "  </thead>\n",
       "  <tbody>\n",
       "    <tr>\n",
       "      <th>0</th>\n",
       "      <td>19</td>\n",
       "      <td>female</td>\n",
       "      <td>27.9</td>\n",
       "      <td>0</td>\n",
       "      <td>yes</td>\n",
       "      <td>southwest</td>\n",
       "      <td>16884.92</td>\n",
       "    </tr>\n",
       "    <tr>\n",
       "      <th>1</th>\n",
       "      <td>18</td>\n",
       "      <td>male</td>\n",
       "      <td>33.8</td>\n",
       "      <td>1</td>\n",
       "      <td>no</td>\n",
       "      <td>southeast</td>\n",
       "      <td>1725.55</td>\n",
       "    </tr>\n",
       "    <tr>\n",
       "      <th>2</th>\n",
       "      <td>28</td>\n",
       "      <td>male</td>\n",
       "      <td>33.0</td>\n",
       "      <td>3</td>\n",
       "      <td>no</td>\n",
       "      <td>southeast</td>\n",
       "      <td>4449.46</td>\n",
       "    </tr>\n",
       "    <tr>\n",
       "      <th>3</th>\n",
       "      <td>33</td>\n",
       "      <td>male</td>\n",
       "      <td>22.7</td>\n",
       "      <td>0</td>\n",
       "      <td>no</td>\n",
       "      <td>northwest</td>\n",
       "      <td>21984.47</td>\n",
       "    </tr>\n",
       "    <tr>\n",
       "      <th>4</th>\n",
       "      <td>32</td>\n",
       "      <td>male</td>\n",
       "      <td>28.9</td>\n",
       "      <td>0</td>\n",
       "      <td>no</td>\n",
       "      <td>northwest</td>\n",
       "      <td>3866.86</td>\n",
       "    </tr>\n",
       "  </tbody>\n",
       "</table>\n",
       "</div>"
      ],
      "text/plain": [
       "   age     sex   bmi  children smoker     region  expenses\n",
       "0   19  female  27.9         0    yes  southwest  16884.92\n",
       "1   18    male  33.8         1     no  southeast   1725.55\n",
       "2   28    male  33.0         3     no  southeast   4449.46\n",
       "3   33    male  22.7         0     no  northwest  21984.47\n",
       "4   32    male  28.9         0     no  northwest   3866.86"
      ]
     },
     "execution_count": 13,
     "metadata": {},
     "output_type": "execute_result"
    }
   ],
   "source": [
    "df.head()"
   ]
  },
  {
   "cell_type": "code",
   "execution_count": 14,
   "metadata": {},
   "outputs": [
    {
     "name": "stdout",
     "output_type": "stream",
     "text": [
      "El dataset tiene 7 columnas y 1338 filas\n"
     ]
    }
   ],
   "source": [
    "print('El dataset tiene {} columnas y {} filas'.format(df .shape[1], df.shape[0]))"
   ]
  },
  {
   "cell_type": "markdown",
   "metadata": {},
   "source": [
    "¿Cuál es la naturaleza de los datos?"
   ]
  },
  {
   "cell_type": "code",
   "execution_count": 15,
   "metadata": {},
   "outputs": [
    {
     "name": "stdout",
     "output_type": "stream",
     "text": [
      "Información del dataframe:\n",
      "\n",
      "<class 'pandas.core.frame.DataFrame'>\n",
      "RangeIndex: 1338 entries, 0 to 1337\n",
      "Data columns (total 7 columns):\n",
      " #   Column    Non-Null Count  Dtype  \n",
      "---  ------    --------------  -----  \n",
      " 0   age       1338 non-null   int64  \n",
      " 1   sex       1338 non-null   object \n",
      " 2   bmi       1338 non-null   float64\n",
      " 3   children  1338 non-null   int64  \n",
      " 4   smoker    1338 non-null   object \n",
      " 5   region    1338 non-null   object \n",
      " 6   expenses  1338 non-null   float64\n",
      "dtypes: float64(2), int64(2), object(3)\n",
      "memory usage: 73.3+ KB\n"
     ]
    }
   ],
   "source": [
    "print('Información del dataframe:\\n')\n",
    "df.info()"
   ]
  },
  {
   "cell_type": "markdown",
   "metadata": {},
   "source": [
    "No tenemor valores nulos.\n",
    "\n",
    "Tipo de los datos:\n",
    "* **int64**: age, children.\n",
    "* **float64**: bmi, expenses.\n",
    "* **object**: sex, smoker, region "
   ]
  },
  {
   "cell_type": "markdown",
   "metadata": {},
   "source": [
    "# Análisis de datos\n",
    "\n",
    "Analizaremos los efectos que tienen los atributos sobre la variable objetivo `expenses`"
   ]
  },
  {
   "cell_type": "code",
   "execution_count": 16,
   "metadata": {},
   "outputs": [],
   "source": [
    "def atributos_vs_objetivo(atributo, objetivo, dataframe):\n",
    "    \"\"\"Crea una tabla resumen del promedio del atributo en contra del objetivo y devuelve un dataframe.\n",
    "\n",
    "    Args:\n",
    "        atributo ([List]): [Atributo a analizar]\n",
    "        objetivo ([List]): [Variable objetivo]\n",
    "        dataframe ([DataFrame]): [Dataframe a analizar]\n",
    "\n",
    "    Returns:\n",
    "        tabla ([DataFrame]): [Tabla con el promedio de cada atributo en contra del objetivo]\n",
    "    \"\"\"\n",
    "    tabla = dataframe[[atributo, objetivo]].groupby(atributo, as_index=False).mean().sort_values(by=objetivo, ascending=False).style.background_gradient(cmap='Blues')\n",
    "    return tabla  "
   ]
  },
  {
   "cell_type": "code",
   "execution_count": 17,
   "metadata": {},
   "outputs": [
    {
     "data": {
      "text/html": [
       "<style type=\"text/css\">\n",
       "#T_af911_row0_col1 {\n",
       "  background-color: #08306b;\n",
       "  color: #f1f1f1;\n",
       "}\n",
       "#T_af911_row1_col1 {\n",
       "  background-color: #f7fbff;\n",
       "  color: #000000;\n",
       "}\n",
       "</style>\n",
       "<table id=\"T_af911_\">\n",
       "  <thead>\n",
       "    <tr>\n",
       "      <th class=\"blank level0\" >&nbsp;</th>\n",
       "      <th class=\"col_heading level0 col0\" >sex</th>\n",
       "      <th class=\"col_heading level0 col1\" >expenses</th>\n",
       "    </tr>\n",
       "  </thead>\n",
       "  <tbody>\n",
       "    <tr>\n",
       "      <th id=\"T_af911_level0_row0\" class=\"row_heading level0 row0\" >1</th>\n",
       "      <td id=\"T_af911_row0_col0\" class=\"data row0 col0\" >male</td>\n",
       "      <td id=\"T_af911_row0_col1\" class=\"data row0 col1\" >13956.751420</td>\n",
       "    </tr>\n",
       "    <tr>\n",
       "      <th id=\"T_af911_level0_row1\" class=\"row_heading level0 row1\" >0</th>\n",
       "      <td id=\"T_af911_row1_col0\" class=\"data row1 col0\" >female</td>\n",
       "      <td id=\"T_af911_row1_col1\" class=\"data row1 col1\" >12569.578897</td>\n",
       "    </tr>\n",
       "  </tbody>\n",
       "</table>\n"
      ],
      "text/plain": [
       "<pandas.io.formats.style.Styler at 0x21126f84be0>"
      ]
     },
     "execution_count": 17,
     "metadata": {},
     "output_type": "execute_result"
    }
   ],
   "source": [
    "sex_expenses = atributos_vs_objetivo('sex', 'expenses', df)\n",
    "sex_expenses"
   ]
  },
  {
   "cell_type": "markdown",
   "metadata": {},
   "source": [
    "En promedio los hombres deben desembolsar más dinero a la hora de contratar un seguro de salud."
   ]
  },
  {
   "cell_type": "code",
   "execution_count": 18,
   "metadata": {},
   "outputs": [
    {
     "data": {
      "text/html": [
       "<style type=\"text/css\">\n",
       "#T_643ab_row0_col0, #T_643ab_row3_col1 {\n",
       "  background-color: #4a98c9;\n",
       "  color: #f1f1f1;\n",
       "}\n",
       "#T_643ab_row0_col1, #T_643ab_row5_col0 {\n",
       "  background-color: #08306b;\n",
       "  color: #f1f1f1;\n",
       "}\n",
       "#T_643ab_row1_col0 {\n",
       "  background-color: #94c4df;\n",
       "  color: #000000;\n",
       "}\n",
       "#T_643ab_row1_col1 {\n",
       "  background-color: #083a7a;\n",
       "  color: #f1f1f1;\n",
       "}\n",
       "#T_643ab_row2_col0 {\n",
       "  background-color: #1764ab;\n",
       "  color: #f1f1f1;\n",
       "}\n",
       "#T_643ab_row2_col1 {\n",
       "  background-color: #1c6bb0;\n",
       "  color: #f1f1f1;\n",
       "}\n",
       "#T_643ab_row3_col0 {\n",
       "  background-color: #d0e1f2;\n",
       "  color: #000000;\n",
       "}\n",
       "#T_643ab_row4_col0, #T_643ab_row5_col1 {\n",
       "  background-color: #f7fbff;\n",
       "  color: #000000;\n",
       "}\n",
       "#T_643ab_row4_col1 {\n",
       "  background-color: #5ca4d0;\n",
       "  color: #f1f1f1;\n",
       "}\n",
       "</style>\n",
       "<table id=\"T_643ab_\">\n",
       "  <thead>\n",
       "    <tr>\n",
       "      <th class=\"blank level0\" >&nbsp;</th>\n",
       "      <th class=\"col_heading level0 col0\" >children</th>\n",
       "      <th class=\"col_heading level0 col1\" >expenses</th>\n",
       "    </tr>\n",
       "  </thead>\n",
       "  <tbody>\n",
       "    <tr>\n",
       "      <th id=\"T_643ab_level0_row0\" class=\"row_heading level0 row0\" >3</th>\n",
       "      <td id=\"T_643ab_row0_col0\" class=\"data row0 col0\" >3</td>\n",
       "      <td id=\"T_643ab_row0_col1\" class=\"data row0 col1\" >15355.318535</td>\n",
       "    </tr>\n",
       "    <tr>\n",
       "      <th id=\"T_643ab_level0_row1\" class=\"row_heading level0 row1\" >2</th>\n",
       "      <td id=\"T_643ab_row1_col0\" class=\"data row1 col0\" >2</td>\n",
       "      <td id=\"T_643ab_row1_col1\" class=\"data row1 col1\" >15073.564000</td>\n",
       "    </tr>\n",
       "    <tr>\n",
       "      <th id=\"T_643ab_level0_row2\" class=\"row_heading level0 row2\" >4</th>\n",
       "      <td id=\"T_643ab_row2_col0\" class=\"data row2 col0\" >4</td>\n",
       "      <td id=\"T_643ab_row2_col1\" class=\"data row2 col1\" >13850.656800</td>\n",
       "    </tr>\n",
       "    <tr>\n",
       "      <th id=\"T_643ab_level0_row3\" class=\"row_heading level0 row3\" >1</th>\n",
       "      <td id=\"T_643ab_row3_col0\" class=\"data row3 col0\" >1</td>\n",
       "      <td id=\"T_643ab_row3_col1\" class=\"data row3 col1\" >12731.171821</td>\n",
       "    </tr>\n",
       "    <tr>\n",
       "      <th id=\"T_643ab_level0_row4\" class=\"row_heading level0 row4\" >0</th>\n",
       "      <td id=\"T_643ab_row4_col0\" class=\"data row4 col0\" >0</td>\n",
       "      <td id=\"T_643ab_row4_col1\" class=\"data row4 col1\" >12365.975767</td>\n",
       "    </tr>\n",
       "    <tr>\n",
       "      <th id=\"T_643ab_level0_row5\" class=\"row_heading level0 row5\" >5</th>\n",
       "      <td id=\"T_643ab_row5_col0\" class=\"data row5 col0\" >5</td>\n",
       "      <td id=\"T_643ab_row5_col1\" class=\"data row5 col1\" >8786.035556</td>\n",
       "    </tr>\n",
       "  </tbody>\n",
       "</table>\n"
      ],
      "text/plain": [
       "<pandas.io.formats.style.Styler at 0x21126f84cd0>"
      ]
     },
     "execution_count": 18,
     "metadata": {},
     "output_type": "execute_result"
    }
   ],
   "source": [
    "children_expenses = atributos_vs_objetivo('children', 'expenses', df)\n",
    "children_expenses"
   ]
  },
  {
   "cell_type": "markdown",
   "metadata": {},
   "source": [
    "En promedio, las familiar deben pagar más dinero al tener entre 2 y 4 hijos."
   ]
  },
  {
   "cell_type": "code",
   "execution_count": 19,
   "metadata": {},
   "outputs": [
    {
     "data": {
      "text/html": [
       "<style type=\"text/css\">\n",
       "#T_4e1d3_row0_col1 {\n",
       "  background-color: #08306b;\n",
       "  color: #f1f1f1;\n",
       "}\n",
       "#T_4e1d3_row1_col1 {\n",
       "  background-color: #f7fbff;\n",
       "  color: #000000;\n",
       "}\n",
       "</style>\n",
       "<table id=\"T_4e1d3_\">\n",
       "  <thead>\n",
       "    <tr>\n",
       "      <th class=\"blank level0\" >&nbsp;</th>\n",
       "      <th class=\"col_heading level0 col0\" >smoker</th>\n",
       "      <th class=\"col_heading level0 col1\" >expenses</th>\n",
       "    </tr>\n",
       "  </thead>\n",
       "  <tbody>\n",
       "    <tr>\n",
       "      <th id=\"T_4e1d3_level0_row0\" class=\"row_heading level0 row0\" >1</th>\n",
       "      <td id=\"T_4e1d3_row0_col0\" class=\"data row0 col0\" >yes</td>\n",
       "      <td id=\"T_4e1d3_row0_col1\" class=\"data row0 col1\" >32050.231971</td>\n",
       "    </tr>\n",
       "    <tr>\n",
       "      <th id=\"T_4e1d3_level0_row1\" class=\"row_heading level0 row1\" >0</th>\n",
       "      <td id=\"T_4e1d3_row1_col0\" class=\"data row1 col0\" >no</td>\n",
       "      <td id=\"T_4e1d3_row1_col1\" class=\"data row1 col1\" >8434.268449</td>\n",
       "    </tr>\n",
       "  </tbody>\n",
       "</table>\n"
      ],
      "text/plain": [
       "<pandas.io.formats.style.Styler at 0x2112726dcd0>"
      ]
     },
     "execution_count": 19,
     "metadata": {},
     "output_type": "execute_result"
    }
   ],
   "source": [
    "smoker_expenses = atributos_vs_objetivo('smoker', 'expenses', df)\n",
    "smoker_expenses"
   ]
  },
  {
   "cell_type": "markdown",
   "metadata": {},
   "source": [
    "Las personas fumadoras pagan en promedio casi 4 veces lo que paga una persona no fumadora, lo cual puede tener mucha influencia a la hora de modelarlo."
   ]
  },
  {
   "cell_type": "code",
   "execution_count": 20,
   "metadata": {},
   "outputs": [
    {
     "data": {
      "text/html": [
       "<style type=\"text/css\">\n",
       "#T_5ba5f_row0_col1 {\n",
       "  background-color: #08306b;\n",
       "  color: #f1f1f1;\n",
       "}\n",
       "#T_5ba5f_row1_col1 {\n",
       "  background-color: #82bbdb;\n",
       "  color: #000000;\n",
       "}\n",
       "#T_5ba5f_row2_col1 {\n",
       "  background-color: #f2f7fd;\n",
       "  color: #000000;\n",
       "}\n",
       "#T_5ba5f_row3_col1 {\n",
       "  background-color: #f7fbff;\n",
       "  color: #000000;\n",
       "}\n",
       "</style>\n",
       "<table id=\"T_5ba5f_\">\n",
       "  <thead>\n",
       "    <tr>\n",
       "      <th class=\"blank level0\" >&nbsp;</th>\n",
       "      <th class=\"col_heading level0 col0\" >region</th>\n",
       "      <th class=\"col_heading level0 col1\" >expenses</th>\n",
       "    </tr>\n",
       "  </thead>\n",
       "  <tbody>\n",
       "    <tr>\n",
       "      <th id=\"T_5ba5f_level0_row0\" class=\"row_heading level0 row0\" >2</th>\n",
       "      <td id=\"T_5ba5f_row0_col0\" class=\"data row0 col0\" >southeast</td>\n",
       "      <td id=\"T_5ba5f_row0_col1\" class=\"data row0 col1\" >14735.411538</td>\n",
       "    </tr>\n",
       "    <tr>\n",
       "      <th id=\"T_5ba5f_level0_row1\" class=\"row_heading level0 row1\" >0</th>\n",
       "      <td id=\"T_5ba5f_row1_col0\" class=\"data row1 col0\" >northeast</td>\n",
       "      <td id=\"T_5ba5f_row1_col1\" class=\"data row1 col1\" >13406.384691</td>\n",
       "    </tr>\n",
       "    <tr>\n",
       "      <th id=\"T_5ba5f_level0_row2\" class=\"row_heading level0 row2\" >1</th>\n",
       "      <td id=\"T_5ba5f_row2_col0\" class=\"data row2 col0\" >northwest</td>\n",
       "      <td id=\"T_5ba5f_row2_col1\" class=\"data row2 col1\" >12417.575169</td>\n",
       "    </tr>\n",
       "    <tr>\n",
       "      <th id=\"T_5ba5f_level0_row3\" class=\"row_heading level0 row3\" >3</th>\n",
       "      <td id=\"T_5ba5f_row3_col0\" class=\"data row3 col0\" >southwest</td>\n",
       "      <td id=\"T_5ba5f_row3_col1\" class=\"data row3 col1\" >12346.937908</td>\n",
       "    </tr>\n",
       "  </tbody>\n",
       "</table>\n"
      ],
      "text/plain": [
       "<pandas.io.formats.style.Styler at 0x211270e9a00>"
      ]
     },
     "execution_count": 20,
     "metadata": {},
     "output_type": "execute_result"
    }
   ],
   "source": [
    "region_expenses = atributos_vs_objetivo('region', 'expenses', df)\n",
    "region_expenses"
   ]
  },
  {
   "cell_type": "markdown",
   "metadata": {},
   "source": [
    "La región más cara es 'southeast' y por el contrario la más barata es 'southwest' "
   ]
  },
  {
   "cell_type": "code",
   "execution_count": 21,
   "metadata": {},
   "outputs": [
    {
     "data": {
      "text/html": [
       "<style type=\"text/css\">\n",
       "#T_8961e_row0_col1, #T_8961e_row0_col2 {\n",
       "  background-color: #08306b;\n",
       "  color: #f1f1f1;\n",
       "}\n",
       "#T_8961e_row1_col1, #T_8961e_row3_col2 {\n",
       "  background-color: #f7fbff;\n",
       "  color: #000000;\n",
       "}\n",
       "#T_8961e_row1_col2 {\n",
       "  background-color: #82bbdb;\n",
       "  color: #000000;\n",
       "}\n",
       "#T_8961e_row2_col1 {\n",
       "  background-color: #f6faff;\n",
       "  color: #000000;\n",
       "}\n",
       "#T_8961e_row2_col2 {\n",
       "  background-color: #f2f7fd;\n",
       "  color: #000000;\n",
       "}\n",
       "#T_8961e_row3_col1 {\n",
       "  background-color: #aacfe5;\n",
       "  color: #000000;\n",
       "}\n",
       "</style>\n",
       "<table id=\"T_8961e_\">\n",
       "  <thead>\n",
       "    <tr>\n",
       "      <th class=\"blank level0\" >&nbsp;</th>\n",
       "      <th class=\"col_heading level0 col0\" >region</th>\n",
       "      <th class=\"col_heading level0 col1\" >bmi</th>\n",
       "      <th class=\"col_heading level0 col2\" >expenses</th>\n",
       "    </tr>\n",
       "  </thead>\n",
       "  <tbody>\n",
       "    <tr>\n",
       "      <th id=\"T_8961e_level0_row0\" class=\"row_heading level0 row0\" >2</th>\n",
       "      <td id=\"T_8961e_row0_col0\" class=\"data row0 col0\" >southeast</td>\n",
       "      <td id=\"T_8961e_row0_col1\" class=\"data row0 col1\" >33.359341</td>\n",
       "      <td id=\"T_8961e_row0_col2\" class=\"data row0 col2\" >14735.411538</td>\n",
       "    </tr>\n",
       "    <tr>\n",
       "      <th id=\"T_8961e_level0_row1\" class=\"row_heading level0 row1\" >0</th>\n",
       "      <td id=\"T_8961e_row1_col0\" class=\"data row1 col0\" >northeast</td>\n",
       "      <td id=\"T_8961e_row1_col1\" class=\"data row1 col1\" >29.176235</td>\n",
       "      <td id=\"T_8961e_row1_col2\" class=\"data row1 col2\" >13406.384691</td>\n",
       "    </tr>\n",
       "    <tr>\n",
       "      <th id=\"T_8961e_level0_row2\" class=\"row_heading level0 row2\" >1</th>\n",
       "      <td id=\"T_8961e_row2_col0\" class=\"data row2 col0\" >northwest</td>\n",
       "      <td id=\"T_8961e_row2_col1\" class=\"data row2 col1\" >29.201846</td>\n",
       "      <td id=\"T_8961e_row2_col2\" class=\"data row2 col2\" >12417.575169</td>\n",
       "    </tr>\n",
       "    <tr>\n",
       "      <th id=\"T_8961e_level0_row3\" class=\"row_heading level0 row3\" >3</th>\n",
       "      <td id=\"T_8961e_row3_col0\" class=\"data row3 col0\" >southwest</td>\n",
       "      <td id=\"T_8961e_row3_col1\" class=\"data row3 col1\" >30.596615</td>\n",
       "      <td id=\"T_8961e_row3_col2\" class=\"data row3 col2\" >12346.937908</td>\n",
       "    </tr>\n",
       "  </tbody>\n",
       "</table>\n"
      ],
      "text/plain": [
       "<pandas.io.formats.style.Styler at 0x21126f30610>"
      ]
     },
     "execution_count": 21,
     "metadata": {},
     "output_type": "execute_result"
    }
   ],
   "source": [
    "df[['region', 'sex', 'bmi', 'expenses']].groupby(['region'], as_index=False).mean().sort_values(by=['expenses'], ascending=False).style.background_gradient(cmap='Blues')"
   ]
  },
  {
   "cell_type": "code",
   "execution_count": 22,
   "metadata": {},
   "outputs": [],
   "source": [
    "# Anlisis bmi ranges\n",
    "bmi_ranges = np.where(df['bmi'] < 18.5, 'bajo peso', \n",
    "             np.where(df['bmi'] < 25, 'peso normal', \n",
    "             np.where(df['bmi'] < 30, 'sobrepeso', \n",
    "             'obesidad')))"
   ]
  },
  {
   "cell_type": "markdown",
   "metadata": {},
   "source": [
    "Rangos de bmi, según [NHS](https://www.nhs.uk/common-health-questions/lifestyle/what-is-the-body-mass-index-bmi/)"
   ]
  },
  {
   "cell_type": "code",
   "execution_count": 23,
   "metadata": {},
   "outputs": [],
   "source": [
    "df['bmi_range'] = bmi_ranges"
   ]
  },
  {
   "cell_type": "code",
   "execution_count": 24,
   "metadata": {},
   "outputs": [
    {
     "data": {
      "text/html": [
       "<style type=\"text/css\">\n",
       "#T_d9f3f_row0_col1 {\n",
       "  background-color: #08306b;\n",
       "  color: #f1f1f1;\n",
       "}\n",
       "#T_d9f3f_row1_col1 {\n",
       "  background-color: #afd1e7;\n",
       "  color: #000000;\n",
       "}\n",
       "#T_d9f3f_row2_col1 {\n",
       "  background-color: #cadef0;\n",
       "  color: #000000;\n",
       "}\n",
       "#T_d9f3f_row3_col1 {\n",
       "  background-color: #f7fbff;\n",
       "  color: #000000;\n",
       "}\n",
       "</style>\n",
       "<table id=\"T_d9f3f_\">\n",
       "  <thead>\n",
       "    <tr>\n",
       "      <th class=\"blank level0\" >&nbsp;</th>\n",
       "      <th class=\"col_heading level0 col0\" >bmi_range</th>\n",
       "      <th class=\"col_heading level0 col1\" >expenses</th>\n",
       "    </tr>\n",
       "  </thead>\n",
       "  <tbody>\n",
       "    <tr>\n",
       "      <th id=\"T_d9f3f_level0_row0\" class=\"row_heading level0 row0\" >1</th>\n",
       "      <td id=\"T_d9f3f_row0_col0\" class=\"data row0 col0\" >obesidad</td>\n",
       "      <td id=\"T_d9f3f_row0_col1\" class=\"data row0 col1\" >15552.335728</td>\n",
       "    </tr>\n",
       "    <tr>\n",
       "      <th id=\"T_d9f3f_level0_row1\" class=\"row_heading level0 row1\" >3</th>\n",
       "      <td id=\"T_d9f3f_row1_col0\" class=\"data row1 col0\" >sobrepeso</td>\n",
       "      <td id=\"T_d9f3f_row1_col1\" class=\"data row1 col1\" >11000.079306</td>\n",
       "    </tr>\n",
       "    <tr>\n",
       "      <th id=\"T_d9f3f_level0_row2\" class=\"row_heading level0 row2\" >2</th>\n",
       "      <td id=\"T_d9f3f_row2_col0\" class=\"data row2 col0\" >peso normal</td>\n",
       "      <td id=\"T_d9f3f_row2_col1\" class=\"data row2 col1\" >10379.499775</td>\n",
       "    </tr>\n",
       "    <tr>\n",
       "      <th id=\"T_d9f3f_level0_row3\" class=\"row_heading level0 row3\" >0</th>\n",
       "      <td id=\"T_d9f3f_row3_col0\" class=\"data row3 col0\" >bajo peso</td>\n",
       "      <td id=\"T_d9f3f_row3_col1\" class=\"data row3 col1\" >8852.201500</td>\n",
       "    </tr>\n",
       "  </tbody>\n",
       "</table>\n"
      ],
      "text/plain": [
       "<pandas.io.formats.style.Styler at 0x21175e474f0>"
      ]
     },
     "execution_count": 24,
     "metadata": {},
     "output_type": "execute_result"
    }
   ],
   "source": [
    "bmi_range_table = atributos_vs_objetivo('bmi_range', 'expenses', df)\n",
    "bmi_range_table"
   ]
  },
  {
   "cell_type": "markdown",
   "metadata": {},
   "source": [
    "Los costos de los seguros de salud son más caros, mientras mayor índice de masa corporal tenga la persona."
   ]
  },
  {
   "cell_type": "code",
   "execution_count": 190,
   "metadata": {},
   "outputs": [
    {
     "data": {
      "text/plain": [
       "Index(['age', 'sex', 'bmi', 'children', 'smoker', 'region', 'expenses',\n",
       "       'bmi_range'],\n",
       "      dtype='object')"
      ]
     },
     "execution_count": 190,
     "metadata": {},
     "output_type": "execute_result"
    }
   ],
   "source": [
    "df.columns"
   ]
  },
  {
   "cell_type": "markdown",
   "metadata": {},
   "source": [
    "# Visualización de los datos\n",
    "\n",
    "Visualizaremos las variables del dataset y sacaremos información de:\n",
    "* Sex\n",
    "* Age\n",
    "* Children\n",
    "* Smoker\n",
    "* Region\n",
    "* Expenses"
   ]
  },
  {
   "cell_type": "markdown",
   "metadata": {},
   "source": [
    "## Sex"
   ]
  },
  {
   "cell_type": "code",
   "execution_count": 27,
   "metadata": {},
   "outputs": [
    {
     "data": {
      "image/png": "[encoded data removed]",
      "text/plain": [
       "<Figure size 1080x720 with 2 Axes>"
      ]
     },
     "metadata": {
      "needs_background": "light"
     },
     "output_type": "display_data"
    }
   ],
   "source": [
    "fig, ax = plt.subplots(2, figsize=(15,10))\n",
    "\n",
    "sns.countplot(ax=ax[0] , x='sex', data=df)\n",
    "sns.countplot(ax=ax[1] , x='sex', data =df, hue='smoker');"
   ]
  },
  {
   "cell_type": "markdown",
   "metadata": {},
   "source": [
    "* Hay una cantidad muy similas de hombres y mujeres en el dataset.\n",
    "* La proporción de fumadores es similas en ambos sexos, sin embargo los hombres tienen un mayor porcentaje de fumadores que las mujeres."
   ]
  },
  {
   "cell_type": "markdown",
   "metadata": {},
   "source": [
    "## Age"
   ]
  },
  {
   "cell_type": "code",
   "execution_count": 72,
   "metadata": {},
   "outputs": [],
   "source": [
    "avg_age_region = df[['region', 'age']].groupby('region', as_index=False).mean()\n",
    "avg_age_sex = df[['sex', 'age']].groupby('sex', as_index=False).mean()\n",
    "avg_age_children = df[['children', 'age']].groupby('children', as_index=False).mean()"
   ]
  },
  {
   "cell_type": "code",
   "execution_count": 207,
   "metadata": {},
   "outputs": [
    {
     "data": {
      "image/png": "[encoded data removed]",
      "text/plain": [
       "<Figure size 1080x720 with 4 Axes>"
      ]
     },
     "metadata": {
      "needs_background": "light"
     },
     "output_type": "display_data"
    }
   ],
   "source": [
    "fig, ax = plt.subplots(2,2, figsize =(15,10))\n",
    "\n",
    "sns.barplot(ax=ax[0,0], x='region', y='age', data=avg_age_region, palette='pastel')\n",
    "ax[0,0].set_title('1. Promedio de edad por región', fontdict={'fontsize': '15'})\n",
    "ax[0,0].set_ylabel('age mean')\t\n",
    "\n",
    "sns.barplot(ax=ax[0,1], x='sex', y='age', data=avg_age_sex, palette='pastel')\n",
    "ax[0,1].set_title('2. Promedio de edad por sexo', fontdict={'fontsize': '15'})\n",
    "ax[0,1].set_ylabel('age mean')\n",
    "\n",
    "sns.barplot(ax=ax[1,0], x='children', y='age', data=avg_age_children, palette='pastel')\n",
    "ax[1,0].set_title('3. Promedio de edad por hijos', fontdict={'fontsize': '15'})\t\n",
    "ax[1,0].set_ylabel('age mean')\n",
    "\n",
    "sns.histplot(ax=ax[1,1] , x='age', data=df, stat='density', color='darkorange', kde=True)\n",
    "ax[1,1].set_title('4. Distribución de la edad', fontdict={'fontsize': '15'})\t\n",
    "ax[1,1].lines[0].set_color('crimson')\n",
    "\n",
    "plt.show()"
   ]
  },
  {
   "cell_type": "markdown",
   "metadata": {},
   "source": [
    "1. La variación de edad de la gente entre regiones es muy poca.\n",
    "2. El promedio de edad es casi el mismo en ambos géneros, siendo mayor en las mujeres.\n",
    "3. El promedio de edad de las personas que tienen 3 hijos es el mayor, por otra parte las que tienen 5 hilos tienen la menor edad en promedio.\n",
    "4. La edad de las personas no sigue una distribución normal, tiene el sesgo a la izquierda, puede ser corregida."
   ]
  },
  {
   "cell_type": "markdown",
   "metadata": {},
   "source": [
    "## Children"
   ]
  },
  {
   "cell_type": "code",
   "execution_count": 222,
   "metadata": {},
   "outputs": [
    {
     "data": {
      "image/png": "[encoded data removed]",
      "text/plain": [
       "<Figure size 720x504 with 1 Axes>"
      ]
     },
     "metadata": {
      "needs_background": "light"
     },
     "output_type": "display_data"
    }
   ],
   "source": [
    "fig, ax = plt.subplots(figsize=(10,7))\n",
    "sns.boxplot(x='children', y='expenses', data=df, palette='pastel')\n",
    "sns.swarmplot(x='children', y='expenses', data=df, color='black', size=2)\n",
    "ax.set_title('Boxplot de gastos por hijos', fontdict={'fontsize': '15'});"
   ]
  },
  {
   "cell_type": "markdown",
   "metadata": {},
   "source": [
    "* Las personas que tienen mayores costos son las que tienen 2 hijos, y las que menos las que tienen 5 hijos, sin embargo puede que esto no sea tan real, ya que las personas que tienen 4 o 5 hijos son muy pocas, entonces puede que no sea representativo."
   ]
  },
  {
   "cell_type": "markdown",
   "metadata": {},
   "source": [
    "## Smoker"
   ]
  },
  {
   "cell_type": "code",
   "execution_count": null,
   "metadata": {},
   "outputs": [],
   "source": []
  }
 ],
 "metadata": {
  "interpreter": {
   "hash": "cef0bd12519c08aad0e70ec13db9adc8fe8bbe665a8989572dd596f9483714a5"
  },
  "kernelspec": {
   "display_name": "Python 3.8.8 64-bit ('venv': venv)",
   "name": "python3"
  },
  "language_info": {
   "codemirror_mode": {
    "name": "ipython",
    "version": 3
   },
   "file_extension": ".py",
   "mimetype": "text/x-python",
   "name": "python",
   "nbconvert_exporter": "python",
   "pygments_lexer": "ipython3",
   "version": "3.8.8"
  },
  "orig_nbformat": 4
 },
 "nbformat": 4,
 "nbformat_minor": 2
}
